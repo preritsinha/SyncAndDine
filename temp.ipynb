{
 "cells": [
  {
   "cell_type": "code",
   "execution_count": 1,
   "metadata": {},
   "outputs": [],
   "source": [
    "import pandas as pd \n",
    "import numpy as np"
   ]
  },
  {
   "cell_type": "code",
   "execution_count": 2,
   "metadata": {},
   "outputs": [
    {
     "data": {
      "text/plain": [
       "Index(['Unnamed: 0', 'url', 'address', 'name', 'book_table', 'rate', 'votes',\n",
       "       'phone', 'location', 'rest_type', 'dish_liked', 'cuisines',\n",
       "       'approx_cost(for two people)'],\n",
       "      dtype='object')"
      ]
     },
     "execution_count": 2,
     "metadata": {},
     "output_type": "execute_result"
    }
   ],
   "source": [
    "df = pd.read_csv(\"restaurants.csv\")\n",
    "df.columns"
   ]
  },
  {
   "cell_type": "code",
   "execution_count": 3,
   "metadata": {},
   "outputs": [
    {
     "data": {
      "text/html": [
       "<div>\n",
       "<style scoped>\n",
       "    .dataframe tbody tr th:only-of-type {\n",
       "        vertical-align: middle;\n",
       "    }\n",
       "\n",
       "    .dataframe tbody tr th {\n",
       "        vertical-align: top;\n",
       "    }\n",
       "\n",
       "    .dataframe thead th {\n",
       "        text-align: right;\n",
       "    }\n",
       "</style>\n",
       "<table border=\"1\" class=\"dataframe\">\n",
       "  <thead>\n",
       "    <tr style=\"text-align: right;\">\n",
       "      <th></th>\n",
       "      <th>Unnamed: 0</th>\n",
       "      <th>url</th>\n",
       "      <th>address</th>\n",
       "      <th>name</th>\n",
       "      <th>book_table</th>\n",
       "      <th>rate</th>\n",
       "      <th>votes</th>\n",
       "      <th>phone</th>\n",
       "      <th>location</th>\n",
       "      <th>rest_type</th>\n",
       "      <th>dish_liked</th>\n",
       "      <th>cuisines</th>\n",
       "      <th>approx_cost(for two people)</th>\n",
       "    </tr>\n",
       "  </thead>\n",
       "  <tbody>\n",
       "    <tr>\n",
       "      <th>0</th>\n",
       "      <td>9090</td>\n",
       "      <td>https://www.zomato.com/bangalore/hum-biryani-b...</td>\n",
       "      <td>117, 31st Main, 2nd Stage, BTM, Bangalore</td>\n",
       "      <td>Hum Biryani</td>\n",
       "      <td>No</td>\n",
       "      <td>3.4/5</td>\n",
       "      <td>17</td>\n",
       "      <td>+91 8546822221</td>\n",
       "      <td>BTM</td>\n",
       "      <td>Delivery</td>\n",
       "      <td>NaN</td>\n",
       "      <td>Biryani, North Indian</td>\n",
       "      <td>600</td>\n",
       "    </tr>\n",
       "    <tr>\n",
       "      <th>1</th>\n",
       "      <td>20492</td>\n",
       "      <td>https://www.zomato.com/bangalore/smoke-oil-sal...</td>\n",
       "      <td>14, Patel Medicals, 7th Main, BTM 2nd Stage, B...</td>\n",
       "      <td>Smoke Oil Salt</td>\n",
       "      <td>No</td>\n",
       "      <td>NEW</td>\n",
       "      <td>0</td>\n",
       "      <td>+91 7337830757</td>\n",
       "      <td>BTM</td>\n",
       "      <td>Quick Bites</td>\n",
       "      <td>NaN</td>\n",
       "      <td>Arabian</td>\n",
       "      <td>850</td>\n",
       "    </tr>\n",
       "    <tr>\n",
       "      <th>2</th>\n",
       "      <td>10449</td>\n",
       "      <td>https://www.zomato.com/bangalore/new-surya-swe...</td>\n",
       "      <td>14, Maruthi Nagar Main Road, Madiwala, 1st Sta...</td>\n",
       "      <td>New Surya Sweets &amp; Snacks</td>\n",
       "      <td>No</td>\n",
       "      <td>3.5/5</td>\n",
       "      <td>7</td>\n",
       "      <td>+91 9686083314</td>\n",
       "      <td>BTM</td>\n",
       "      <td>Sweet Shop</td>\n",
       "      <td>NaN</td>\n",
       "      <td>Mithai, Fast Food</td>\n",
       "      <td>300</td>\n",
       "    </tr>\n",
       "    <tr>\n",
       "      <th>3</th>\n",
       "      <td>10590</td>\n",
       "      <td>https://www.zomato.com/bangalore/b2d-indori-dh...</td>\n",
       "      <td>No.46, 11th Main Road, KEB Colony, 1st Stage, ...</td>\n",
       "      <td>B2D Indori Dhaba</td>\n",
       "      <td>No</td>\n",
       "      <td>NaN</td>\n",
       "      <td>0</td>\n",
       "      <td>+91 9691652001</td>\n",
       "      <td>BTM</td>\n",
       "      <td>Quick Bites</td>\n",
       "      <td>NaN</td>\n",
       "      <td>North Indian</td>\n",
       "      <td>100</td>\n",
       "    </tr>\n",
       "    <tr>\n",
       "      <th>4</th>\n",
       "      <td>10824</td>\n",
       "      <td>https://www.zomato.com/bangalore/ice-n-spice-b...</td>\n",
       "      <td>Shop 20, NS Palya, 2nd Stage, BTM, Bangalore</td>\n",
       "      <td>Ice N Spice</td>\n",
       "      <td>No</td>\n",
       "      <td>NEW</td>\n",
       "      <td>0</td>\n",
       "      <td>+91 7406869966</td>\n",
       "      <td>BTM</td>\n",
       "      <td>Quick Bites</td>\n",
       "      <td>NaN</td>\n",
       "      <td>Ice Cream, Beverages, Fast Food</td>\n",
       "      <td>300</td>\n",
       "    </tr>\n",
       "  </tbody>\n",
       "</table>\n",
       "</div>"
      ],
      "text/plain": [
       "   Unnamed: 0                                                url  \\\n",
       "0        9090  https://www.zomato.com/bangalore/hum-biryani-b...   \n",
       "1       20492  https://www.zomato.com/bangalore/smoke-oil-sal...   \n",
       "2       10449  https://www.zomato.com/bangalore/new-surya-swe...   \n",
       "3       10590  https://www.zomato.com/bangalore/b2d-indori-dh...   \n",
       "4       10824  https://www.zomato.com/bangalore/ice-n-spice-b...   \n",
       "\n",
       "                                             address  \\\n",
       "0          117, 31st Main, 2nd Stage, BTM, Bangalore   \n",
       "1  14, Patel Medicals, 7th Main, BTM 2nd Stage, B...   \n",
       "2  14, Maruthi Nagar Main Road, Madiwala, 1st Sta...   \n",
       "3  No.46, 11th Main Road, KEB Colony, 1st Stage, ...   \n",
       "4       Shop 20, NS Palya, 2nd Stage, BTM, Bangalore   \n",
       "\n",
       "                        name book_table   rate  votes           phone  \\\n",
       "0                Hum Biryani         No  3.4/5     17  +91 8546822221   \n",
       "1             Smoke Oil Salt         No    NEW      0  +91 7337830757   \n",
       "2  New Surya Sweets & Snacks         No  3.5/5      7  +91 9686083314   \n",
       "3           B2D Indori Dhaba         No    NaN      0  +91 9691652001   \n",
       "4                Ice N Spice         No    NEW      0  +91 7406869966   \n",
       "\n",
       "  location    rest_type dish_liked                         cuisines  \\\n",
       "0      BTM     Delivery        NaN            Biryani, North Indian   \n",
       "1      BTM  Quick Bites        NaN                          Arabian   \n",
       "2      BTM   Sweet Shop        NaN                Mithai, Fast Food   \n",
       "3      BTM  Quick Bites        NaN                     North Indian   \n",
       "4      BTM  Quick Bites        NaN  Ice Cream, Beverages, Fast Food   \n",
       "\n",
       "  approx_cost(for two people)  \n",
       "0                         600  \n",
       "1                         850  \n",
       "2                         300  \n",
       "3                         100  \n",
       "4                         300  "
      ]
     },
     "execution_count": 3,
     "metadata": {},
     "output_type": "execute_result"
    }
   ],
   "source": [
    "df.head()"
   ]
  },
  {
   "cell_type": "code",
   "execution_count": 4,
   "metadata": {},
   "outputs": [
    {
     "data": {
      "text/plain": [
       "['Biryani', ' North Indian']"
      ]
     },
     "execution_count": 4,
     "metadata": {},
     "output_type": "execute_result"
    }
   ],
   "source": [
    "df['cuisines'][0].split(\",\")"
   ]
  },
  {
   "cell_type": "code",
   "execution_count": 5,
   "metadata": {},
   "outputs": [
    {
     "data": {
      "text/plain": [
       "108"
      ]
     },
     "execution_count": 5,
     "metadata": {},
     "output_type": "execute_result"
    }
   ],
   "source": [
    "unique_cuisines = pd.Series(df['cuisines'].str.split(',').explode().str.strip().unique()).tolist()\n",
    "len(unique_cuisines)"
   ]
  },
  {
   "cell_type": "code",
   "execution_count": 6,
   "metadata": {},
   "outputs": [
    {
     "data": {
      "text/plain": [
       "['Delivery',\n",
       " 'Quick Bites',\n",
       " 'Sweet Shop',\n",
       " 'Casual Dining',\n",
       " 'Bakery',\n",
       " 'Cafe',\n",
       " 'Takeaway',\n",
       " 'Bar',\n",
       " 'Food Court',\n",
       " 'Dessert Parlor',\n",
       " 'Beverage Shop',\n",
       " 'Microbrewery',\n",
       " nan,\n",
       " 'Mess',\n",
       " 'Pub',\n",
       " 'Dhaba',\n",
       " 'Kiosk',\n",
       " 'Confectionery',\n",
       " 'Lounge',\n",
       " 'Club',\n",
       " 'Fine Dining',\n",
       " 'Food Truck',\n",
       " 'Bhojanalya',\n",
       " 'Meat Shop',\n",
       " 'Irani Cafee',\n",
       " 'Pop Up']"
      ]
     },
     "execution_count": 6,
     "metadata": {},
     "output_type": "execute_result"
    }
   ],
   "source": [
    "rest_type = pd.Series(df['rest_type'].str.split(',').explode().str.strip().unique()).tolist()\n",
    "rest_type"
   ]
  },
  {
   "cell_type": "code",
   "execution_count": 7,
   "metadata": {},
   "outputs": [
    {
     "data": {
      "text/plain": [
       "array(['BTM', 'Banashankari', 'Banaswadi', 'Bannerghatta Road',\n",
       "       'Basavanagudi', 'Basaveshwara Nagar', 'Bellandur', 'Bommanahalli',\n",
       "       'Brigade Road', 'Brookefield', 'CV Raman Nagar',\n",
       "       'Central Bangalore', 'Church Street', 'City Market',\n",
       "       'Commercial Street', 'Cunningham Road', 'Domlur', 'East Bangalore',\n",
       "       'Ejipura', 'Electronic City', 'Frazer Town', 'HBR Layout', 'HSR',\n",
       "       'Hebbal', 'Hennur', 'Hosur Road', 'ITPL Main Road, Whitefield',\n",
       "       'Indiranagar', 'Infantry Road', 'JP Nagar', 'Jakkur', 'Jalahalli',\n",
       "       'Jayanagar', 'Jeevan Bhima Nagar', 'KR Puram', 'Kaggadasapura',\n",
       "       'Kalyan Nagar', 'Kammanahalli', 'Kanakapura Road', 'Kengeri',\n",
       "       'Koramangala', 'Koramangala 1st Block', 'Koramangala 2nd Block',\n",
       "       'Koramangala 3rd Block', 'Koramangala 4th Block',\n",
       "       'Koramangala 5th Block', 'Koramangala 6th Block',\n",
       "       'Koramangala 7th Block', 'Koramangala 8th Block',\n",
       "       'Kumaraswamy Layout', 'Langford Town', 'Lavelle Road', 'MG Road',\n",
       "       'Magadi Road', 'Majestic', 'Malleshwaram', 'Marathahalli',\n",
       "       'Mysore Road', 'Nagarbhavi', 'Nagawara', 'New BEL Road',\n",
       "       'North Bangalore', 'Old Airport Road', 'Old Madras Road', 'Peenya',\n",
       "       'RT Nagar', 'Race Course Road', 'Rajajinagar',\n",
       "       'Rajarajeshwari Nagar', 'Rammurthy Nagar', 'Residency Road',\n",
       "       'Richmond Road', 'Sadashiv Nagar', 'Sahakara Nagar',\n",
       "       'Sanjay Nagar', 'Sankey Road', 'Sarjapur Road', 'Seshadripuram',\n",
       "       'Shanti Nagar', 'Shivajinagar', 'South Bangalore',\n",
       "       'St. Marks Road', 'Thippasandra', 'Ulsoor', 'Uttarahalli',\n",
       "       'Varthur Main Road, Whitefield', 'Vasanth Nagar', 'Vijay Nagar',\n",
       "       'West Bangalore', 'Whitefield', 'Wilson Garden', 'Yelahanka',\n",
       "       'Yeshwantpur'], dtype=object)"
      ]
     },
     "execution_count": 7,
     "metadata": {},
     "output_type": "execute_result"
    }
   ],
   "source": [
    "df['location'].unique()"
   ]
  },
  {
   "cell_type": "code",
   "execution_count": 8,
   "metadata": {},
   "outputs": [
    {
     "data": {
      "text/plain": [
       "list"
      ]
     },
     "execution_count": 8,
     "metadata": {},
     "output_type": "execute_result"
    }
   ],
   "source": [
    "type(pd.Series(df['cuisines'].str.split(',').explode().str.strip().unique()).tolist())"
   ]
  },
  {
   "cell_type": "code",
   "execution_count": 9,
   "metadata": {},
   "outputs": [
    {
     "name": "stdout",
     "output_type": "stream",
     "text": [
      "200\n",
      "<Response [200]>\n"
     ]
    }
   ],
   "source": [
    "import requests\n",
    "\n",
    "url = \"http://127.0.0.1:5000/get_filters\"\n",
    "headers = {\n",
    "    \"accept\": \"application/json\"\n",
    "}\n",
    "\n",
    "response = requests.get(url, headers=headers, verify=False)\n",
    "\n",
    "# Print the response\n",
    "print(response.status_code)\n",
    "print(response)  # If the response is JSON"
   ]
  },
  {
   "cell_type": "code",
   "execution_count": 10,
   "metadata": {},
   "outputs": [
    {
     "name": "stdout",
     "output_type": "stream",
     "text": [
      "1000.0\n"
     ]
    }
   ],
   "source": [
    "a = '1000'\n",
    "print(float(a))"
   ]
  },
  {
   "cell_type": "code",
   "execution_count": 11,
   "metadata": {},
   "outputs": [
    {
     "data": {
      "text/plain": [
       "array(['3.4/5', 'NEW', '3.5/5', nan, '3.9 /5', '4.1 /5', '3.4 /5',\n",
       "       '3.7 /5', '2.7/5', '3.1 /5', '3.1/5', '3.7/5', '3.6 /5', '4.0/5',\n",
       "       '2.9/5', '3.8 /5', '3.2/5', '3.0 /5', '3.0/5', '4.0 /5', '3.3 /5',\n",
       "       '3.2 /5', '3.9/5', '3.3/5', '3.5 /5', '3.8/5', '2.4/5', '3.6/5',\n",
       "       '4.5 /5', '4.1/5', '2.9 /5', '4.2/5', '2.6 /5', '2.8 /5', '4.2 /5',\n",
       "       '4.9 /5', '4.5/5', '-', '2.5 /5', '2.6/5', '2.7 /5', '4.3 /5',\n",
       "       '2.8/5', '4.4/5', '4.3/5', '4.9/5', '4.4 /5', '4.6/5', '2.5/5',\n",
       "       '4.7/5', '2.3/5', '2.3 /5', '2.2/5', '4.8/5', '4.6 /5', '2.1/5',\n",
       "       '2.1 /5', '2.0/5', '2.0 /5', '2.4 /5', '1.8/5', '1.8 /5', '4.7 /5',\n",
       "       '4.8 /5', '2.2 /5'], dtype=object)"
      ]
     },
     "execution_count": 11,
     "metadata": {},
     "output_type": "execute_result"
    }
   ],
   "source": [
    "df['rate'].unique()"
   ]
  },
  {
   "cell_type": "code",
   "execution_count": null,
   "metadata": {},
   "outputs": [],
   "source": []
  },
  {
   "cell_type": "code",
   "execution_count": 12,
   "metadata": {},
   "outputs": [
    {
     "name": "stdout",
     "output_type": "stream",
     "text": [
      "0         3.4/5\n",
      "1           NEW\n",
      "2         3.5/5\n",
      "3              \n",
      "4           NEW\n",
      "          ...  \n",
      "37234    2.9 /5\n",
      "37235          \n",
      "37236    3.7 /5\n",
      "37237    3.5 /5\n",
      "37238    3.9 /5\n",
      "Name: rate, Length: 37239, dtype: object\n"
     ]
    },
    {
     "data": {
      "text/plain": [
       "0        3.4\n",
       "1           \n",
       "2        3.5\n",
       "3           \n",
       "4           \n",
       "        ... \n",
       "37234    2.9\n",
       "37235       \n",
       "37236    3.7\n",
       "37237    3.5\n",
       "37238    3.9\n",
       "Name: rate, Length: 37239, dtype: object"
      ]
     },
     "execution_count": 12,
     "metadata": {},
     "output_type": "execute_result"
    }
   ],
   "source": [
    "import pandas as pd\n",
    "restaurant_data = pd.read_csv('restaurants.csv')\n",
    "restaurant_data.fillna(\"\",inplace=True)\n",
    "def clean_rate(value):\n",
    "    if value is None or pd.isna(value):  # Check for None or NaN\n",
    "        return \"\"\n",
    "    if isinstance(value, str):\n",
    "        value = value.strip()  # Remove extra spaces\n",
    "        if '/' in value:  # Check if it has the '/5' format\n",
    "            return float(value.split('/')[0])\n",
    "        elif value in ['NEW', '-']:  # Handle special cases\n",
    "            return \"\"\n",
    "    return \"\"\n",
    "print(restaurant_data['rate'])\n",
    "restaurant_data['rate'] = restaurant_data['rate'].apply(clean_rate)\n",
    "restaurant_data['rate']\n"
   ]
  },
  {
   "cell_type": "code",
   "execution_count": 13,
   "metadata": {},
   "outputs": [
    {
     "name": "stdout",
     "output_type": "stream",
     "text": [
      "Column Names:  ['swipes']\n",
      "(b'\\x80\\x05\\x95\\x85\\x00\\x00\\x00\\x00\\x00\\x00\\x00\\x8c\\x16sqlalchemy.ext.mutable\\x94\\x8c\\x0bMutableDict\\x94\\x93\\x94)\\x81\\x94(\\x8c\\x010\\x94\\x8c\\x04like\\x94\\x8c\\x011\\x94\\x8c\\x04like\\x94\\x8c\\x012\\x94\\x8c\\x07dislike\\x94\\x8c\\x013\\x94\\x8c\\x04like\\x94\\x8c\\x014\\x94\\x8c\\x07dislike\\x94u}\\x94(h\\x04h\\x05h\\x06h\\x07h\\x08h\\th\\nh\\x0bh\\x0ch\\rub.',)\n"
     ]
    }
   ],
   "source": [
    "import sqlite3\n",
    "\n",
    "# Connect to the database file\n",
    "connection = sqlite3.connect('instance/syncanddine.db')\n",
    "\n",
    "# Create a cursor object\n",
    "cursor = connection.cursor()\n",
    "\n",
    "# Query to fetch all rows from the 'user' table\n",
    "cursor.execute(\"SELECT swipes FROM user where id=2;\")\n",
    "\n",
    "# Fetch column names\n",
    "column_names = [description[0] for description in cursor.description]\n",
    "\n",
    "# Fetch all rows\n",
    "rows = cursor.fetchall()\n",
    "\n",
    "# Print column names\n",
    "print(\"Column Names: \", column_names)\n",
    "# Print rows\n",
    "for row in rows:\n",
    "    print(row)\n",
    "\n",
    "# Close the cursor and connection\n",
    "cursor.close()\n",
    "connection.close()\n"
   ]
  },
  {
   "cell_type": "code",
   "execution_count": 14,
   "metadata": {},
   "outputs": [
    {
     "name": "stdout",
     "output_type": "stream",
     "text": [
      "{'0': 'like', '1': 'dislike', '2': 'like', '3': 'dislike', '4': 'like', '5': 'like'}\n"
     ]
    }
   ],
   "source": [
    "import pickle\n",
    "data1 = pickle.loads(b'\\x80\\x05\\x95\\x94\\x00\\x00\\x00\\x00\\x00\\x00\\x00\\x8c\\x16sqlalchemy.ext.mutable\\x94\\x8c\\x0bMutableDict\\x94\\x93\\x94)\\x81\\x94(\\x8c\\x010\\x94\\x8c\\x04like\\x94\\x8c\\x011\\x94\\x8c\\x07dislike\\x94\\x8c\\x012\\x94\\x8c\\x04like\\x94\\x8c\\x013\\x94\\x8c\\x07dislike\\x94\\x8c\\x014\\x94\\x8c\\x04like\\x94\\x8c\\x015\\x94\\x8c\\x04like\\x94u}\\x94(h\\x04h\\x05h\\x06h\\x07h\\x08h\\th\\nh\\x0bh\\x0ch\\rh\\x0eh\\x0fub.',)\n",
    "\n",
    "print(data1)\n"
   ]
  },
  {
   "cell_type": "code",
   "execution_count": 15,
   "metadata": {},
   "outputs": [
    {
     "name": "stdout",
     "output_type": "stream",
     "text": [
      "{'0': 'like', '1': 'like', '2': 'dislike', '3': 'like', '4': 'dislike'}\n"
     ]
    }
   ],
   "source": [
    "import pickle\n",
    "data2 = pickle.loads(b'\\x80\\x05\\x95\\x85\\x00\\x00\\x00\\x00\\x00\\x00\\x00\\x8c\\x16sqlalchemy.ext.mutable\\x94\\x8c\\x0bMutableDict\\x94\\x93\\x94)\\x81\\x94(\\x8c\\x010\\x94\\x8c\\x04like\\x94\\x8c\\x011\\x94\\x8c\\x04like\\x94\\x8c\\x012\\x94\\x8c\\x07dislike\\x94\\x8c\\x013\\x94\\x8c\\x04like\\x94\\x8c\\x014\\x94\\x8c\\x07dislike\\x94u}\\x94(h\\x04h\\x05h\\x06h\\x07h\\x08h\\th\\nh\\x0bh\\x0ch\\rub.',)\n",
    "\n",
    "\n",
    "print(data2)\n"
   ]
  },
  {
   "cell_type": "code",
   "execution_count": null,
   "metadata": {},
   "outputs": [],
   "source": []
  },
  {
   "cell_type": "code",
   "execution_count": 6,
   "metadata": {},
   "outputs": [
    {
     "ename": "OperationalError",
     "evalue": "no such table: INFORMATION_SCHEMA.TABLES",
     "output_type": "error",
     "traceback": [
      "\u001b[0;31m---------------------------------------------------------------------------\u001b[0m",
      "\u001b[0;31mOperationalError\u001b[0m                          Traceback (most recent call last)",
      "Cell \u001b[0;32mIn[6], line 4\u001b[0m\n\u001b[1;32m      2\u001b[0m connection \u001b[38;5;241m=\u001b[39m sqlite3\u001b[38;5;241m.\u001b[39mconnect(\u001b[38;5;124m'\u001b[39m\u001b[38;5;124msyncanddine.db\u001b[39m\u001b[38;5;124m'\u001b[39m)\n\u001b[1;32m      3\u001b[0m cursor \u001b[38;5;241m=\u001b[39m connection\u001b[38;5;241m.\u001b[39mcursor()\n\u001b[0;32m----> 4\u001b[0m \u001b[43mcursor\u001b[49m\u001b[38;5;241;43m.\u001b[39;49m\u001b[43mexecute\u001b[49m\u001b[43m(\u001b[49m\u001b[38;5;124;43m'''\u001b[39;49m\n\u001b[1;32m      5\u001b[0m \u001b[38;5;124;43mSELECT TABLE_NAME \u001b[39;49m\n\u001b[1;32m      6\u001b[0m \u001b[38;5;124;43mFROM INFORMATION_SCHEMA.TABLES \u001b[39;49m\n\u001b[1;32m      7\u001b[0m \u001b[38;5;124;43mWHERE TABLE_TYPE = \u001b[39;49m\u001b[38;5;124;43m'\u001b[39;49m\u001b[38;5;124;43mBASE TABLE\u001b[39;49m\u001b[38;5;124;43m'\u001b[39;49m\u001b[38;5;124;43m \u001b[39;49m\n\u001b[1;32m      8\u001b[0m \u001b[38;5;124;43mORDER BY TABLE_NAME ASC\u001b[39;49m\n\u001b[1;32m      9\u001b[0m \u001b[38;5;124;43m'''\u001b[39;49m\u001b[43m)\u001b[49m\n\u001b[1;32m     10\u001b[0m column_names \u001b[38;5;241m=\u001b[39m [description[\u001b[38;5;241m0\u001b[39m] \u001b[38;5;28;01mfor\u001b[39;00m description \u001b[38;5;129;01min\u001b[39;00m cursor\u001b[38;5;241m.\u001b[39mdescription]\n\u001b[1;32m     11\u001b[0m rows \u001b[38;5;241m=\u001b[39m cursor\u001b[38;5;241m.\u001b[39mfetchall()\n",
      "\u001b[0;31mOperationalError\u001b[0m: no such table: INFORMATION_SCHEMA.TABLES"
     ]
    }
   ],
   "source": [
    "import sqlite3\n",
    "connection = sqlite3.connect('syncanddine.db')\n",
    "cursor = connection.cursor()\n",
    "cursor.execute('''\n",
    "SELECT TABLE_NAME \n",
    "FROM .TABLES \n",
    "WHERE TABLE_TYPE = 'BASE TABLE' \n",
    "ORDER BY TABLE_NAME ASC\n",
    "''')\n",
    "column_names = [description[0] for description in cursor.description]\n",
    "rows = cursor.fetchall()\n",
    "print(\"Column Names: \", column_names)\n",
    "for row in rows:\n",
    "    print(row)\n",
    "cursor.close()\n",
    "connection.close()\n"
   ]
  },
  {
   "cell_type": "code",
   "execution_count": 8,
   "metadata": {},
   "outputs": [],
   "source": [
    "import pandas as pd "
   ]
  },
  {
   "cell_type": "code",
   "execution_count": 9,
   "metadata": {},
   "outputs": [
    {
     "data": {
      "text/html": [
       "<div>\n",
       "<style scoped>\n",
       "    .dataframe tbody tr th:only-of-type {\n",
       "        vertical-align: middle;\n",
       "    }\n",
       "\n",
       "    .dataframe tbody tr th {\n",
       "        vertical-align: top;\n",
       "    }\n",
       "\n",
       "    .dataframe thead th {\n",
       "        text-align: right;\n",
       "    }\n",
       "</style>\n",
       "<table border=\"1\" class=\"dataframe\">\n",
       "  <thead>\n",
       "    <tr style=\"text-align: right;\">\n",
       "      <th></th>\n",
       "      <th>Unnamed: 0</th>\n",
       "      <th>url</th>\n",
       "      <th>address</th>\n",
       "      <th>name</th>\n",
       "      <th>book_table</th>\n",
       "      <th>rate</th>\n",
       "      <th>votes</th>\n",
       "      <th>phone</th>\n",
       "      <th>location</th>\n",
       "      <th>rest_type</th>\n",
       "      <th>dish_liked</th>\n",
       "      <th>cuisines</th>\n",
       "      <th>approx_cost(for two people)</th>\n",
       "    </tr>\n",
       "  </thead>\n",
       "  <tbody>\n",
       "    <tr>\n",
       "      <th>0</th>\n",
       "      <td>9090</td>\n",
       "      <td>https://www.zomato.com/bangalore/hum-biryani-b...</td>\n",
       "      <td>117, 31st Main, 2nd Stage, BTM, Bangalore</td>\n",
       "      <td>Hum Biryani</td>\n",
       "      <td>No</td>\n",
       "      <td>3.4/5</td>\n",
       "      <td>17</td>\n",
       "      <td>+91 8546822221</td>\n",
       "      <td>BTM</td>\n",
       "      <td>Delivery</td>\n",
       "      <td>NaN</td>\n",
       "      <td>Biryani, North Indian</td>\n",
       "      <td>600</td>\n",
       "    </tr>\n",
       "    <tr>\n",
       "      <th>1</th>\n",
       "      <td>20492</td>\n",
       "      <td>https://www.zomato.com/bangalore/smoke-oil-sal...</td>\n",
       "      <td>14, Patel Medicals, 7th Main, BTM 2nd Stage, B...</td>\n",
       "      <td>Smoke Oil Salt</td>\n",
       "      <td>No</td>\n",
       "      <td>NEW</td>\n",
       "      <td>0</td>\n",
       "      <td>+91 7337830757</td>\n",
       "      <td>BTM</td>\n",
       "      <td>Quick Bites</td>\n",
       "      <td>NaN</td>\n",
       "      <td>Arabian</td>\n",
       "      <td>850</td>\n",
       "    </tr>\n",
       "    <tr>\n",
       "      <th>2</th>\n",
       "      <td>10449</td>\n",
       "      <td>https://www.zomato.com/bangalore/new-surya-swe...</td>\n",
       "      <td>14, Maruthi Nagar Main Road, Madiwala, 1st Sta...</td>\n",
       "      <td>New Surya Sweets &amp; Snacks</td>\n",
       "      <td>No</td>\n",
       "      <td>3.5/5</td>\n",
       "      <td>7</td>\n",
       "      <td>+91 9686083314</td>\n",
       "      <td>BTM</td>\n",
       "      <td>Sweet Shop</td>\n",
       "      <td>NaN</td>\n",
       "      <td>Mithai, Fast Food</td>\n",
       "      <td>300</td>\n",
       "    </tr>\n",
       "    <tr>\n",
       "      <th>3</th>\n",
       "      <td>10590</td>\n",
       "      <td>https://www.zomato.com/bangalore/b2d-indori-dh...</td>\n",
       "      <td>No.46, 11th Main Road, KEB Colony, 1st Stage, ...</td>\n",
       "      <td>B2D Indori Dhaba</td>\n",
       "      <td>No</td>\n",
       "      <td>NaN</td>\n",
       "      <td>0</td>\n",
       "      <td>+91 9691652001</td>\n",
       "      <td>BTM</td>\n",
       "      <td>Quick Bites</td>\n",
       "      <td>NaN</td>\n",
       "      <td>North Indian</td>\n",
       "      <td>100</td>\n",
       "    </tr>\n",
       "    <tr>\n",
       "      <th>4</th>\n",
       "      <td>10824</td>\n",
       "      <td>https://www.zomato.com/bangalore/ice-n-spice-b...</td>\n",
       "      <td>Shop 20, NS Palya, 2nd Stage, BTM, Bangalore</td>\n",
       "      <td>Ice N Spice</td>\n",
       "      <td>No</td>\n",
       "      <td>NEW</td>\n",
       "      <td>0</td>\n",
       "      <td>+91 7406869966</td>\n",
       "      <td>BTM</td>\n",
       "      <td>Quick Bites</td>\n",
       "      <td>NaN</td>\n",
       "      <td>Ice Cream, Beverages, Fast Food</td>\n",
       "      <td>300</td>\n",
       "    </tr>\n",
       "  </tbody>\n",
       "</table>\n",
       "</div>"
      ],
      "text/plain": [
       "   Unnamed: 0                                                url  \\\n",
       "0        9090  https://www.zomato.com/bangalore/hum-biryani-b...   \n",
       "1       20492  https://www.zomato.com/bangalore/smoke-oil-sal...   \n",
       "2       10449  https://www.zomato.com/bangalore/new-surya-swe...   \n",
       "3       10590  https://www.zomato.com/bangalore/b2d-indori-dh...   \n",
       "4       10824  https://www.zomato.com/bangalore/ice-n-spice-b...   \n",
       "\n",
       "                                             address  \\\n",
       "0          117, 31st Main, 2nd Stage, BTM, Bangalore   \n",
       "1  14, Patel Medicals, 7th Main, BTM 2nd Stage, B...   \n",
       "2  14, Maruthi Nagar Main Road, Madiwala, 1st Sta...   \n",
       "3  No.46, 11th Main Road, KEB Colony, 1st Stage, ...   \n",
       "4       Shop 20, NS Palya, 2nd Stage, BTM, Bangalore   \n",
       "\n",
       "                        name book_table   rate  votes           phone  \\\n",
       "0                Hum Biryani         No  3.4/5     17  +91 8546822221   \n",
       "1             Smoke Oil Salt         No    NEW      0  +91 7337830757   \n",
       "2  New Surya Sweets & Snacks         No  3.5/5      7  +91 9686083314   \n",
       "3           B2D Indori Dhaba         No    NaN      0  +91 9691652001   \n",
       "4                Ice N Spice         No    NEW      0  +91 7406869966   \n",
       "\n",
       "  location    rest_type dish_liked                         cuisines  \\\n",
       "0      BTM     Delivery        NaN            Biryani, North Indian   \n",
       "1      BTM  Quick Bites        NaN                          Arabian   \n",
       "2      BTM   Sweet Shop        NaN                Mithai, Fast Food   \n",
       "3      BTM  Quick Bites        NaN                     North Indian   \n",
       "4      BTM  Quick Bites        NaN  Ice Cream, Beverages, Fast Food   \n",
       "\n",
       "  approx_cost(for two people)  \n",
       "0                         600  \n",
       "1                         850  \n",
       "2                         300  \n",
       "3                         100  \n",
       "4                         300  "
      ]
     },
     "execution_count": 9,
     "metadata": {},
     "output_type": "execute_result"
    }
   ],
   "source": [
    "df = pd.read_csv(\"restaurants.csv\")\n",
    "df.head()"
   ]
  },
  {
   "cell_type": "code",
   "execution_count": 12,
   "metadata": {},
   "outputs": [
    {
     "data": {
      "text/plain": [
       "0    https://www.zomato.com/bangalore/hum-biryani-b...\n",
       "Name: url, dtype: object"
      ]
     },
     "execution_count": 12,
     "metadata": {},
     "output_type": "execute_result"
    }
   ],
   "source": [
    "df['url'][df['name']=='Hum Biryani']"
   ]
  },
  {
   "cell_type": "code",
   "execution_count": 19,
   "metadata": {},
   "outputs": [
    {
     "data": {
      "text/plain": [
       "['Unnamed: 0',\n",
       " 'url',\n",
       " 'address',\n",
       " 'name',\n",
       " 'book_table',\n",
       " 'rate',\n",
       " 'votes',\n",
       " 'phone',\n",
       " 'location',\n",
       " 'rest_type',\n",
       " 'dish_liked',\n",
       " 'cuisines',\n",
       " 'approx_cost(for two people)']"
      ]
     },
     "execution_count": 19,
     "metadata": {},
     "output_type": "execute_result"
    }
   ],
   "source": [
    "list(df.columns)"
   ]
  },
  {
   "cell_type": "code",
   "execution_count": 20,
   "metadata": {},
   "outputs": [
    {
     "data": {
      "text/plain": [
       "location\n",
       "Whitefield              1000\n",
       "BTM                     1000\n",
       "Sarjapur Road           1000\n",
       "Indiranagar             1000\n",
       "Electronic City         1000\n",
       "                        ... \n",
       "West Bangalore             6\n",
       "Yelahanka                  6\n",
       "Jakkur                     3\n",
       "Rajarajeshwari Nagar       2\n",
       "Peenya                     1\n",
       "Name: count, Length: 93, dtype: int64"
      ]
     },
     "execution_count": 20,
     "metadata": {},
     "output_type": "execute_result"
    }
   ],
   "source": [
    "df['location'].value_counts()"
   ]
  },
  {
   "cell_type": "code",
   "execution_count": 21,
   "metadata": {},
   "outputs": [],
   "source": [
    "# desired_size = 1000\n",
    "# def balance_categories(df, column, desired_size):\n",
    "#     balanced_df = pd.DataFrame()\n",
    "#     for category, group in df.groupby(column):\n",
    "#         if len(group) > desired_size:\n",
    "#             balanced_group = group.sample(desired_size, random_state=42)\n",
    "#         else:\n",
    "#             balanced_group = group\n",
    "#         balanced_df = pd.concat([balanced_df, balanced_group], axis=0)\n",
    "#     return balanced_df\n",
    "# df = balance_categories(df, 'location', desired_size)\n",
    "# print(df['location'].value_counts())"
   ]
  },
  {
   "cell_type": "code",
   "execution_count": null,
   "metadata": {},
   "outputs": [],
   "source": []
  },
  {
   "cell_type": "code",
   "execution_count": null,
   "metadata": {},
   "outputs": [],
   "source": []
  },
  {
   "cell_type": "code",
   "execution_count": null,
   "metadata": {},
   "outputs": [],
   "source": []
  },
  {
   "cell_type": "code",
   "execution_count": 22,
   "metadata": {},
   "outputs": [],
   "source": [
    "# df = df.drop(['reviews_list','menu_item','listed_in(type)','listed_in(city)','online_order'],axis=1)"
   ]
  },
  {
   "cell_type": "code",
   "execution_count": 23,
   "metadata": {},
   "outputs": [],
   "source": [
    "# df.to_csv(\"restaurants.csv\")"
   ]
  },
  {
   "cell_type": "code",
   "execution_count": null,
   "metadata": {},
   "outputs": [],
   "source": []
  },
  {
   "cell_type": "code",
   "execution_count": null,
   "metadata": {},
   "outputs": [],
   "source": []
  },
  {
   "cell_type": "code",
   "execution_count": null,
   "metadata": {},
   "outputs": [],
   "source": []
  },
  {
   "cell_type": "code",
   "execution_count": 25,
   "metadata": {},
   "outputs": [
    {
     "data": {
      "text/html": [
       "<div>\n",
       "<style scoped>\n",
       "    .dataframe tbody tr th:only-of-type {\n",
       "        vertical-align: middle;\n",
       "    }\n",
       "\n",
       "    .dataframe tbody tr th {\n",
       "        vertical-align: top;\n",
       "    }\n",
       "\n",
       "    .dataframe thead th {\n",
       "        text-align: right;\n",
       "    }\n",
       "</style>\n",
       "<table border=\"1\" class=\"dataframe\">\n",
       "  <thead>\n",
       "    <tr style=\"text-align: right;\">\n",
       "      <th></th>\n",
       "      <th>Unnamed: 0</th>\n",
       "      <th>url</th>\n",
       "      <th>address</th>\n",
       "      <th>name</th>\n",
       "      <th>book_table</th>\n",
       "      <th>rate</th>\n",
       "      <th>votes</th>\n",
       "      <th>phone</th>\n",
       "      <th>location</th>\n",
       "      <th>rest_type</th>\n",
       "      <th>dish_liked</th>\n",
       "      <th>cuisines</th>\n",
       "      <th>approx_cost(for two people)</th>\n",
       "    </tr>\n",
       "  </thead>\n",
       "  <tbody>\n",
       "    <tr>\n",
       "      <th>0</th>\n",
       "      <td>9090</td>\n",
       "      <td>https://www.zomato.com/bangalore/hum-biryani-b...</td>\n",
       "      <td>117, 31st Main, 2nd Stage, BTM, Bangalore</td>\n",
       "      <td>Hum Biryani</td>\n",
       "      <td>No</td>\n",
       "      <td>3.4/5</td>\n",
       "      <td>17</td>\n",
       "      <td>+91 8546822221</td>\n",
       "      <td>BTM</td>\n",
       "      <td>Delivery</td>\n",
       "      <td>NaN</td>\n",
       "      <td>Biryani, North Indian</td>\n",
       "      <td>600</td>\n",
       "    </tr>\n",
       "    <tr>\n",
       "      <th>1</th>\n",
       "      <td>20492</td>\n",
       "      <td>https://www.zomato.com/bangalore/smoke-oil-sal...</td>\n",
       "      <td>14, Patel Medicals, 7th Main, BTM 2nd Stage, B...</td>\n",
       "      <td>Smoke Oil Salt</td>\n",
       "      <td>No</td>\n",
       "      <td>NEW</td>\n",
       "      <td>0</td>\n",
       "      <td>+91 7337830757</td>\n",
       "      <td>BTM</td>\n",
       "      <td>Quick Bites</td>\n",
       "      <td>NaN</td>\n",
       "      <td>Arabian</td>\n",
       "      <td>850</td>\n",
       "    </tr>\n",
       "    <tr>\n",
       "      <th>2</th>\n",
       "      <td>10449</td>\n",
       "      <td>https://www.zomato.com/bangalore/new-surya-swe...</td>\n",
       "      <td>14, Maruthi Nagar Main Road, Madiwala, 1st Sta...</td>\n",
       "      <td>New Surya Sweets &amp; Snacks</td>\n",
       "      <td>No</td>\n",
       "      <td>3.5/5</td>\n",
       "      <td>7</td>\n",
       "      <td>+91 9686083314</td>\n",
       "      <td>BTM</td>\n",
       "      <td>Sweet Shop</td>\n",
       "      <td>NaN</td>\n",
       "      <td>Mithai, Fast Food</td>\n",
       "      <td>300</td>\n",
       "    </tr>\n",
       "    <tr>\n",
       "      <th>3</th>\n",
       "      <td>10590</td>\n",
       "      <td>https://www.zomato.com/bangalore/b2d-indori-dh...</td>\n",
       "      <td>No.46, 11th Main Road, KEB Colony, 1st Stage, ...</td>\n",
       "      <td>B2D Indori Dhaba</td>\n",
       "      <td>No</td>\n",
       "      <td>NaN</td>\n",
       "      <td>0</td>\n",
       "      <td>+91 9691652001</td>\n",
       "      <td>BTM</td>\n",
       "      <td>Quick Bites</td>\n",
       "      <td>NaN</td>\n",
       "      <td>North Indian</td>\n",
       "      <td>100</td>\n",
       "    </tr>\n",
       "    <tr>\n",
       "      <th>4</th>\n",
       "      <td>10824</td>\n",
       "      <td>https://www.zomato.com/bangalore/ice-n-spice-b...</td>\n",
       "      <td>Shop 20, NS Palya, 2nd Stage, BTM, Bangalore</td>\n",
       "      <td>Ice N Spice</td>\n",
       "      <td>No</td>\n",
       "      <td>NEW</td>\n",
       "      <td>0</td>\n",
       "      <td>+91 7406869966</td>\n",
       "      <td>BTM</td>\n",
       "      <td>Quick Bites</td>\n",
       "      <td>NaN</td>\n",
       "      <td>Ice Cream, Beverages, Fast Food</td>\n",
       "      <td>300</td>\n",
       "    </tr>\n",
       "  </tbody>\n",
       "</table>\n",
       "</div>"
      ],
      "text/plain": [
       "   Unnamed: 0                                                url  \\\n",
       "0        9090  https://www.zomato.com/bangalore/hum-biryani-b...   \n",
       "1       20492  https://www.zomato.com/bangalore/smoke-oil-sal...   \n",
       "2       10449  https://www.zomato.com/bangalore/new-surya-swe...   \n",
       "3       10590  https://www.zomato.com/bangalore/b2d-indori-dh...   \n",
       "4       10824  https://www.zomato.com/bangalore/ice-n-spice-b...   \n",
       "\n",
       "                                             address  \\\n",
       "0          117, 31st Main, 2nd Stage, BTM, Bangalore   \n",
       "1  14, Patel Medicals, 7th Main, BTM 2nd Stage, B...   \n",
       "2  14, Maruthi Nagar Main Road, Madiwala, 1st Sta...   \n",
       "3  No.46, 11th Main Road, KEB Colony, 1st Stage, ...   \n",
       "4       Shop 20, NS Palya, 2nd Stage, BTM, Bangalore   \n",
       "\n",
       "                        name book_table   rate  votes           phone  \\\n",
       "0                Hum Biryani         No  3.4/5     17  +91 8546822221   \n",
       "1             Smoke Oil Salt         No    NEW      0  +91 7337830757   \n",
       "2  New Surya Sweets & Snacks         No  3.5/5      7  +91 9686083314   \n",
       "3           B2D Indori Dhaba         No    NaN      0  +91 9691652001   \n",
       "4                Ice N Spice         No    NEW      0  +91 7406869966   \n",
       "\n",
       "  location    rest_type dish_liked                         cuisines  \\\n",
       "0      BTM     Delivery        NaN            Biryani, North Indian   \n",
       "1      BTM  Quick Bites        NaN                          Arabian   \n",
       "2      BTM   Sweet Shop        NaN                Mithai, Fast Food   \n",
       "3      BTM  Quick Bites        NaN                     North Indian   \n",
       "4      BTM  Quick Bites        NaN  Ice Cream, Beverages, Fast Food   \n",
       "\n",
       "  approx_cost(for two people)  \n",
       "0                         600  \n",
       "1                         850  \n",
       "2                         300  \n",
       "3                         100  \n",
       "4                         300  "
      ]
     },
     "execution_count": 25,
     "metadata": {},
     "output_type": "execute_result"
    }
   ],
   "source": [
    "df.head()"
   ]
  },
  {
   "cell_type": "code",
   "execution_count": null,
   "metadata": {},
   "outputs": [],
   "source": []
  }
 ],
 "metadata": {
  "kernelspec": {
   "display_name": "Python 3",
   "language": "python",
   "name": "python3"
  },
  "language_info": {
   "codemirror_mode": {
    "name": "ipython",
    "version": 3
   },
   "file_extension": ".py",
   "mimetype": "text/x-python",
   "name": "python",
   "nbconvert_exporter": "python",
   "pygments_lexer": "ipython3",
   "version": "3.12.4"
  }
 },
 "nbformat": 4,
 "nbformat_minor": 2
}
